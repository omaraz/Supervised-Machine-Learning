{
 "cells": [
  {
   "cell_type": "markdown",
   "id": "0f5fdd81",
   "metadata": {},
   "source": [
    "# Gradient Descent with Classification:\n",
    "\n",
    "## This notebook will take a quick review on logistic Regrsseion and Batch Gradient Descent(using python):\n",
    "\n",
    "### 1- Batch Gradient Descent from scratch and using it to Binary classification\n",
    "### 2- Use bult-in function from sklearn logistic Regrsseion to Binary classification"
   ]
  },
  {
   "cell_type": "markdown",
   "id": "40ed7203",
   "metadata": {},
   "source": [
    "### Import numpy, matplotlib.pyplot, and sklearn"
   ]
  },
  {
   "cell_type": "code",
   "execution_count": 1,
   "id": "71003110",
   "metadata": {},
   "outputs": [],
   "source": [
    "#import numpy and name it np as always\n",
    "import numpy as np\n",
    "\n",
    "#import only needed method and classes from sklearn\n",
    "from sklearn.datasets import load_breast_cancer \n",
    "from sklearn.model_selection import train_test_split\n",
    "from sklearn.linear_model import LogisticRegression\n",
    "from sklearn.metrics import accuracy_score,confusion_matrix, ConfusionMatrixDisplay,classification_report\n",
    "from sklearn.preprocessing import MinMaxScaler\n",
    "\n",
    "#import matplotlib for visualization\n",
    "import matplotlib.pyplot as plt"
   ]
  },
  {
   "cell_type": "markdown",
   "id": "ce411f04",
   "metadata": {},
   "source": [
    "#### Import the data and explore it "
   ]
  },
  {
   "cell_type": "code",
   "execution_count": 2,
   "id": "7693f339",
   "metadata": {},
   "outputs": [
    {
     "data": {
      "text/html": [
       "<div>\n",
       "<style scoped>\n",
       "    .dataframe tbody tr th:only-of-type {\n",
       "        vertical-align: middle;\n",
       "    }\n",
       "\n",
       "    .dataframe tbody tr th {\n",
       "        vertical-align: top;\n",
       "    }\n",
       "\n",
       "    .dataframe thead th {\n",
       "        text-align: right;\n",
       "    }\n",
       "</style>\n",
       "<table border=\"1\" class=\"dataframe\">\n",
       "  <thead>\n",
       "    <tr style=\"text-align: right;\">\n",
       "      <th></th>\n",
       "      <th>mean radius</th>\n",
       "      <th>mean texture</th>\n",
       "      <th>mean perimeter</th>\n",
       "      <th>mean area</th>\n",
       "      <th>mean smoothness</th>\n",
       "      <th>mean compactness</th>\n",
       "      <th>mean concavity</th>\n",
       "      <th>mean concave points</th>\n",
       "      <th>mean symmetry</th>\n",
       "      <th>mean fractal dimension</th>\n",
       "      <th>...</th>\n",
       "      <th>worst radius</th>\n",
       "      <th>worst texture</th>\n",
       "      <th>worst perimeter</th>\n",
       "      <th>worst area</th>\n",
       "      <th>worst smoothness</th>\n",
       "      <th>worst compactness</th>\n",
       "      <th>worst concavity</th>\n",
       "      <th>worst concave points</th>\n",
       "      <th>worst symmetry</th>\n",
       "      <th>worst fractal dimension</th>\n",
       "    </tr>\n",
       "  </thead>\n",
       "  <tbody>\n",
       "    <tr>\n",
       "      <th>count</th>\n",
       "      <td>569.000000</td>\n",
       "      <td>569.000000</td>\n",
       "      <td>569.000000</td>\n",
       "      <td>569.000000</td>\n",
       "      <td>569.000000</td>\n",
       "      <td>569.000000</td>\n",
       "      <td>569.000000</td>\n",
       "      <td>569.000000</td>\n",
       "      <td>569.000000</td>\n",
       "      <td>569.000000</td>\n",
       "      <td>...</td>\n",
       "      <td>569.000000</td>\n",
       "      <td>569.000000</td>\n",
       "      <td>569.000000</td>\n",
       "      <td>569.000000</td>\n",
       "      <td>569.000000</td>\n",
       "      <td>569.000000</td>\n",
       "      <td>569.000000</td>\n",
       "      <td>569.000000</td>\n",
       "      <td>569.000000</td>\n",
       "      <td>569.000000</td>\n",
       "    </tr>\n",
       "    <tr>\n",
       "      <th>mean</th>\n",
       "      <td>14.127292</td>\n",
       "      <td>19.289649</td>\n",
       "      <td>91.969033</td>\n",
       "      <td>654.889104</td>\n",
       "      <td>0.096360</td>\n",
       "      <td>0.104341</td>\n",
       "      <td>0.088799</td>\n",
       "      <td>0.048919</td>\n",
       "      <td>0.181162</td>\n",
       "      <td>0.062798</td>\n",
       "      <td>...</td>\n",
       "      <td>16.269190</td>\n",
       "      <td>25.677223</td>\n",
       "      <td>107.261213</td>\n",
       "      <td>880.583128</td>\n",
       "      <td>0.132369</td>\n",
       "      <td>0.254265</td>\n",
       "      <td>0.272188</td>\n",
       "      <td>0.114606</td>\n",
       "      <td>0.290076</td>\n",
       "      <td>0.083946</td>\n",
       "    </tr>\n",
       "    <tr>\n",
       "      <th>std</th>\n",
       "      <td>3.524049</td>\n",
       "      <td>4.301036</td>\n",
       "      <td>24.298981</td>\n",
       "      <td>351.914129</td>\n",
       "      <td>0.014064</td>\n",
       "      <td>0.052813</td>\n",
       "      <td>0.079720</td>\n",
       "      <td>0.038803</td>\n",
       "      <td>0.027414</td>\n",
       "      <td>0.007060</td>\n",
       "      <td>...</td>\n",
       "      <td>4.833242</td>\n",
       "      <td>6.146258</td>\n",
       "      <td>33.602542</td>\n",
       "      <td>569.356993</td>\n",
       "      <td>0.022832</td>\n",
       "      <td>0.157336</td>\n",
       "      <td>0.208624</td>\n",
       "      <td>0.065732</td>\n",
       "      <td>0.061867</td>\n",
       "      <td>0.018061</td>\n",
       "    </tr>\n",
       "    <tr>\n",
       "      <th>min</th>\n",
       "      <td>6.981000</td>\n",
       "      <td>9.710000</td>\n",
       "      <td>43.790000</td>\n",
       "      <td>143.500000</td>\n",
       "      <td>0.052630</td>\n",
       "      <td>0.019380</td>\n",
       "      <td>0.000000</td>\n",
       "      <td>0.000000</td>\n",
       "      <td>0.106000</td>\n",
       "      <td>0.049960</td>\n",
       "      <td>...</td>\n",
       "      <td>7.930000</td>\n",
       "      <td>12.020000</td>\n",
       "      <td>50.410000</td>\n",
       "      <td>185.200000</td>\n",
       "      <td>0.071170</td>\n",
       "      <td>0.027290</td>\n",
       "      <td>0.000000</td>\n",
       "      <td>0.000000</td>\n",
       "      <td>0.156500</td>\n",
       "      <td>0.055040</td>\n",
       "    </tr>\n",
       "    <tr>\n",
       "      <th>25%</th>\n",
       "      <td>11.700000</td>\n",
       "      <td>16.170000</td>\n",
       "      <td>75.170000</td>\n",
       "      <td>420.300000</td>\n",
       "      <td>0.086370</td>\n",
       "      <td>0.064920</td>\n",
       "      <td>0.029560</td>\n",
       "      <td>0.020310</td>\n",
       "      <td>0.161900</td>\n",
       "      <td>0.057700</td>\n",
       "      <td>...</td>\n",
       "      <td>13.010000</td>\n",
       "      <td>21.080000</td>\n",
       "      <td>84.110000</td>\n",
       "      <td>515.300000</td>\n",
       "      <td>0.116600</td>\n",
       "      <td>0.147200</td>\n",
       "      <td>0.114500</td>\n",
       "      <td>0.064930</td>\n",
       "      <td>0.250400</td>\n",
       "      <td>0.071460</td>\n",
       "    </tr>\n",
       "    <tr>\n",
       "      <th>50%</th>\n",
       "      <td>13.370000</td>\n",
       "      <td>18.840000</td>\n",
       "      <td>86.240000</td>\n",
       "      <td>551.100000</td>\n",
       "      <td>0.095870</td>\n",
       "      <td>0.092630</td>\n",
       "      <td>0.061540</td>\n",
       "      <td>0.033500</td>\n",
       "      <td>0.179200</td>\n",
       "      <td>0.061540</td>\n",
       "      <td>...</td>\n",
       "      <td>14.970000</td>\n",
       "      <td>25.410000</td>\n",
       "      <td>97.660000</td>\n",
       "      <td>686.500000</td>\n",
       "      <td>0.131300</td>\n",
       "      <td>0.211900</td>\n",
       "      <td>0.226700</td>\n",
       "      <td>0.099930</td>\n",
       "      <td>0.282200</td>\n",
       "      <td>0.080040</td>\n",
       "    </tr>\n",
       "    <tr>\n",
       "      <th>75%</th>\n",
       "      <td>15.780000</td>\n",
       "      <td>21.800000</td>\n",
       "      <td>104.100000</td>\n",
       "      <td>782.700000</td>\n",
       "      <td>0.105300</td>\n",
       "      <td>0.130400</td>\n",
       "      <td>0.130700</td>\n",
       "      <td>0.074000</td>\n",
       "      <td>0.195700</td>\n",
       "      <td>0.066120</td>\n",
       "      <td>...</td>\n",
       "      <td>18.790000</td>\n",
       "      <td>29.720000</td>\n",
       "      <td>125.400000</td>\n",
       "      <td>1084.000000</td>\n",
       "      <td>0.146000</td>\n",
       "      <td>0.339100</td>\n",
       "      <td>0.382900</td>\n",
       "      <td>0.161400</td>\n",
       "      <td>0.317900</td>\n",
       "      <td>0.092080</td>\n",
       "    </tr>\n",
       "    <tr>\n",
       "      <th>max</th>\n",
       "      <td>28.110000</td>\n",
       "      <td>39.280000</td>\n",
       "      <td>188.500000</td>\n",
       "      <td>2501.000000</td>\n",
       "      <td>0.163400</td>\n",
       "      <td>0.345400</td>\n",
       "      <td>0.426800</td>\n",
       "      <td>0.201200</td>\n",
       "      <td>0.304000</td>\n",
       "      <td>0.097440</td>\n",
       "      <td>...</td>\n",
       "      <td>36.040000</td>\n",
       "      <td>49.540000</td>\n",
       "      <td>251.200000</td>\n",
       "      <td>4254.000000</td>\n",
       "      <td>0.222600</td>\n",
       "      <td>1.058000</td>\n",
       "      <td>1.252000</td>\n",
       "      <td>0.291000</td>\n",
       "      <td>0.663800</td>\n",
       "      <td>0.207500</td>\n",
       "    </tr>\n",
       "  </tbody>\n",
       "</table>\n",
       "<p>8 rows × 30 columns</p>\n",
       "</div>"
      ],
      "text/plain": [
       "       mean radius  mean texture  mean perimeter    mean area  \\\n",
       "count   569.000000    569.000000      569.000000   569.000000   \n",
       "mean     14.127292     19.289649       91.969033   654.889104   \n",
       "std       3.524049      4.301036       24.298981   351.914129   \n",
       "min       6.981000      9.710000       43.790000   143.500000   \n",
       "25%      11.700000     16.170000       75.170000   420.300000   \n",
       "50%      13.370000     18.840000       86.240000   551.100000   \n",
       "75%      15.780000     21.800000      104.100000   782.700000   \n",
       "max      28.110000     39.280000      188.500000  2501.000000   \n",
       "\n",
       "       mean smoothness  mean compactness  mean concavity  mean concave points  \\\n",
       "count       569.000000        569.000000      569.000000           569.000000   \n",
       "mean          0.096360          0.104341        0.088799             0.048919   \n",
       "std           0.014064          0.052813        0.079720             0.038803   \n",
       "min           0.052630          0.019380        0.000000             0.000000   \n",
       "25%           0.086370          0.064920        0.029560             0.020310   \n",
       "50%           0.095870          0.092630        0.061540             0.033500   \n",
       "75%           0.105300          0.130400        0.130700             0.074000   \n",
       "max           0.163400          0.345400        0.426800             0.201200   \n",
       "\n",
       "       mean symmetry  mean fractal dimension  ...  worst radius  \\\n",
       "count     569.000000              569.000000  ...    569.000000   \n",
       "mean        0.181162                0.062798  ...     16.269190   \n",
       "std         0.027414                0.007060  ...      4.833242   \n",
       "min         0.106000                0.049960  ...      7.930000   \n",
       "25%         0.161900                0.057700  ...     13.010000   \n",
       "50%         0.179200                0.061540  ...     14.970000   \n",
       "75%         0.195700                0.066120  ...     18.790000   \n",
       "max         0.304000                0.097440  ...     36.040000   \n",
       "\n",
       "       worst texture  worst perimeter   worst area  worst smoothness  \\\n",
       "count     569.000000       569.000000   569.000000        569.000000   \n",
       "mean       25.677223       107.261213   880.583128          0.132369   \n",
       "std         6.146258        33.602542   569.356993          0.022832   \n",
       "min        12.020000        50.410000   185.200000          0.071170   \n",
       "25%        21.080000        84.110000   515.300000          0.116600   \n",
       "50%        25.410000        97.660000   686.500000          0.131300   \n",
       "75%        29.720000       125.400000  1084.000000          0.146000   \n",
       "max        49.540000       251.200000  4254.000000          0.222600   \n",
       "\n",
       "       worst compactness  worst concavity  worst concave points  \\\n",
       "count         569.000000       569.000000            569.000000   \n",
       "mean            0.254265         0.272188              0.114606   \n",
       "std             0.157336         0.208624              0.065732   \n",
       "min             0.027290         0.000000              0.000000   \n",
       "25%             0.147200         0.114500              0.064930   \n",
       "50%             0.211900         0.226700              0.099930   \n",
       "75%             0.339100         0.382900              0.161400   \n",
       "max             1.058000         1.252000              0.291000   \n",
       "\n",
       "       worst symmetry  worst fractal dimension  \n",
       "count      569.000000               569.000000  \n",
       "mean         0.290076                 0.083946  \n",
       "std          0.061867                 0.018061  \n",
       "min          0.156500                 0.055040  \n",
       "25%          0.250400                 0.071460  \n",
       "50%          0.282200                 0.080040  \n",
       "75%          0.317900                 0.092080  \n",
       "max          0.663800                 0.207500  \n",
       "\n",
       "[8 rows x 30 columns]"
      ]
     },
     "execution_count": 2,
     "metadata": {},
     "output_type": "execute_result"
    }
   ],
   "source": [
    "#import the data with its labels\n",
    "x_data,y_data = load_breast_cancer(return_X_y= True,as_frame=True)\n",
    "\n",
    "#adding bais to be used in the case of calculating using Gradient Descent\n",
    "x_GD = np.concatenate((np.ones(len(x_data)).reshape(-1,1),x_data),axis = 1)\n",
    "\n",
    "#explore the data quickly using decribe mehtod to get statistical review\n",
    "x_data.describe()\n",
    "\n",
    "# x_GD[:,0]\n",
    "# y_data"
   ]
  },
  {
   "cell_type": "code",
   "execution_count": 3,
   "id": "72405d4e",
   "metadata": {},
   "outputs": [],
   "source": [
    "#split the data into train data and testing data\n",
    "X_train, X_test, y_train, y_test = train_test_split(x_GD, y_data, test_size=0.15, shuffle= True)"
   ]
  },
  {
   "cell_type": "code",
   "execution_count": 4,
   "id": "938dbb09",
   "metadata": {},
   "outputs": [],
   "source": [
    "#create scaler object to pre-processing the data\n",
    "scaler =MinMaxScaler()\n",
    "\n",
    "X_train = scaler.fit_transform(X_train)\n",
    "X_test =  scaler.transform(X_test)"
   ]
  },
  {
   "cell_type": "markdown",
   "id": "d17e0d3f",
   "metadata": {},
   "source": [
    "## Implement Gradient Descent to be used  in Logestic regression"
   ]
  },
  {
   "cell_type": "code",
   "execution_count": 5,
   "id": "e9040987",
   "metadata": {},
   "outputs": [],
   "source": [
    "#Implement Sigmoid Function to be used in logistic REgression\n",
    "sigmoid = lambda z: 1 / (1 + np.e**(-z))\n",
    "\n",
    "#Cost Function implementation\n",
    "def Log_Reg_cost_fn(x,y,thetas):\n",
    "    '''This function input :\n",
    "                x : shape(m*n) numpy array m records , n features \n",
    "                y : shape(m*1) numpy array m records as labels\n",
    "                thetas : contains theats valuse numpy array shape(n*1)\n",
    "                \n",
    "        Output :is cost/error fuction value'''\n",
    "    \n",
    "    z = x@thetas\n",
    "    predict_1 = y * np.log10(sigmoid(z))\n",
    "    predict_0 = (1 - y) * np.log10(1 - sigmoid(z))\n",
    "    \n",
    "    return -sum(predict_1 + predict_0) / len(x)\n",
    "\n",
    "def Log_Reg_fit(x,y , epochs=1000, learning_rate=1e-3):\n",
    "    '''This function input :\n",
    "                x : shape(m*n) numpy array m records , n features \n",
    "                y : shape(m*1) numpy array m records as labels\n",
    "                epochs : number of loops over the data set\n",
    "                learning_rate : the ratio of updating thetas\n",
    "           \n",
    "           Output :\n",
    "                loss_list : list contains cost/error fuction values                \n",
    "                thetas : contains theats valuse numpy array shape(n*1)'''\n",
    "    loss_list= []        \n",
    "    thetas = np.random.rand(x.shape[1])\n",
    "    N = len(x)\n",
    "    \n",
    "    for _ in range(epochs):        \n",
    "        # Gradient Descent\n",
    "        y_hat = sigmoid(x@ thetas)\n",
    "        thetas -= learning_rate * (x.T @  (y_hat - y)) / N            \n",
    "        # Saving Progress\n",
    "        loss_list.append(Log_Reg_cost_fn(x, y, thetas)) \n",
    "            \n",
    "    return (thetas, loss_list)\n",
    "\n",
    "def Log_Reg_predict(x,thetas):\n",
    "    '''This function input :\n",
    "                x : shape(m*n) numpy array m records , n features\n",
    "                thetas : contains theats valuse numpy array shape(n*1)\n",
    "                        \n",
    "           Output :\n",
    "                z : shape(m*1) numpy array m records as labels after mapping the output into bainary values(1 or 0)              \n",
    "                '''\n",
    "    \n",
    "    # Predicting with sigmoid function\n",
    "    z = x@thetas\n",
    "    # Returning binary result\n",
    "    return [1 if i > 0.5 else 0 for i in sigmoid(z)]   \n"
   ]
  },
  {
   "cell_type": "code",
   "execution_count": 6,
   "id": "3abb3d3c",
   "metadata": {},
   "outputs": [],
   "source": [
    "#calculate thetas and loss_values of training data\n",
    "thetas, loss_list = Log_Reg_fit(X_train,y_train, epochs=5000, learning_rate=0.7)"
   ]
  },
  {
   "cell_type": "code",
   "execution_count": 24,
   "id": "0acf9e1e",
   "metadata": {},
   "outputs": [],
   "source": [
    "#predict the values from test data\n",
    "y_pred = Log_Reg_predict(X_test,thetas)"
   ]
  },
  {
   "cell_type": "code",
   "execution_count": 25,
   "id": "dee4a691",
   "metadata": {},
   "outputs": [
    {
     "name": "stdout",
     "output_type": "stream",
     "text": [
      "Accuracy score = 0.9767441860465116\n"
     ]
    }
   ],
   "source": [
    "#prediction score\n",
    "print(f'Accuracy score = {accuracy_score(y_test,y_pred)}')"
   ]
  },
  {
   "cell_type": "code",
   "execution_count": 26,
   "id": "de73819e",
   "metadata": {},
   "outputs": [
    {
     "data": {
      "image/png": "[encoded data removed]",
      "text/plain": [
       "<Figure size 432x288 with 1 Axes>"
      ]
     },
     "metadata": {
      "needs_background": "light"
     },
     "output_type": "display_data"
    }
   ],
   "source": [
    "plt.plot(loss_list)\n",
    "plt.grid()\n",
    "plt.title('Loss vs. Epochs')\n",
    "plt.xlabel('epochs')\n",
    "plt.ylabel('loss')\n",
    "\n",
    "plt.show()"
   ]
  },
  {
   "cell_type": "code",
   "execution_count": 27,
   "id": "66a3b3d9",
   "metadata": {},
   "outputs": [
    {
     "data": {
      "image/png": "[encoded data removed]",
      "text/plain": [
       "<Figure size 576x360 with 1 Axes>"
      ]
     },
     "metadata": {
      "needs_background": "light"
     },
     "output_type": "display_data"
    }
   ],
   "source": [
    "#plot classified data on one of the features\n",
    "plt.figure(figsize=(8,5))\n",
    "\n",
    "plt.scatter(X_test[:,3],y_pred, c = y_test, marker = 'x' , lw = 4)\n",
    "plt.axhline(y = 0.5, c='r')\n",
    "plt.title('Predction of breas cancer data-set')\n",
    "plt.text(.47,.8,'Label 0 indecated test result is Postive.\\nLabel 1 indecated test result is Negtive.',{'color':'black','size':10})\n",
    "\n",
    "\n",
    "plt.grid()\n",
    "plt.show()"
   ]
  },
  {
   "cell_type": "markdown",
   "id": "a91c9807",
   "metadata": {},
   "source": [
    "### **for positive samples recall is around 90% it is good but needed to imporved but F-1 Score giving acceptable score for the whole test datset"
   ]
  },
  {
   "cell_type": "code",
   "execution_count": 10,
   "id": "f65052f5",
   "metadata": {},
   "outputs": [
    {
     "name": "stdout",
     "output_type": "stream",
     "text": [
      "              precision    recall  f1-score   support\n",
      "\n",
      "           0       1.00      0.93      0.96        29\n",
      "           1       0.97      1.00      0.98        57\n",
      "\n",
      "    accuracy                           0.98        86\n",
      "   macro avg       0.98      0.97      0.97        86\n",
      "weighted avg       0.98      0.98      0.98        86\n",
      "\n",
      "** 0 label indecats Postive Sample.\n",
      "   1 label indecats Negative Sample.\n"
     ]
    }
   ],
   "source": [
    "cm =  confusion_matrix(y_test,y_pred)\n",
    "print(classification_report(y_test, y_pred))\n",
    "print('** 0 label indecats Postive Sample.\\n   1 label indecats Negative Sample.')"
   ]
  },
  {
   "cell_type": "code",
   "execution_count": 11,
   "id": "19b0be58",
   "metadata": {},
   "outputs": [
    {
     "data": {
      "text/plain": [
       "<sklearn.metrics._plot.confusion_matrix.ConfusionMatrixDisplay at 0x1fd15939760>"
      ]
     },
     "execution_count": 11,
     "metadata": {},
     "output_type": "execute_result"
    },
    {
     "data": {
      "image/png": "[encoded data removed]",
      "text/plain": [
       "<Figure size 432x288 with 2 Axes>"
      ]
     },
     "metadata": {
      "needs_background": "light"
     },
     "output_type": "display_data"
    }
   ],
   "source": [
    "cmd_obj = ConfusionMatrixDisplay(cm,display_labels=['Postive','Negative'])\n",
    "cmd_obj.plot()"
   ]
  },
  {
   "cell_type": "markdown",
   "id": "907e9614",
   "metadata": {},
   "source": [
    "# Using Logistic Regression from Sklearn"
   ]
  },
  {
   "cell_type": "code",
   "execution_count": 12,
   "id": "92677ca7",
   "metadata": {},
   "outputs": [
    {
     "name": "stdout",
     "output_type": "stream",
     "text": [
      "Accuracy score = 0.9883720930232558\n"
     ]
    }
   ],
   "source": [
    "reg = LogisticRegression().fit(X_train, y_train)\n",
    "\n",
    "#Prediction step\n",
    "y_pred = reg.predict(X_test)\n",
    "#report Acuurcy \n",
    "print(f'Accuracy score = {reg.score(X_test,y_test)}')"
   ]
  },
  {
   "cell_type": "markdown",
   "id": "c05858ae",
   "metadata": {},
   "source": [
    "### **for positive samples recall is 97% it is better than previous trail and F-1 Score giving acceptable score for the whole test datset 99%"
   ]
  },
  {
   "cell_type": "code",
   "execution_count": 13,
   "id": "293983f9",
   "metadata": {},
   "outputs": [
    {
     "name": "stdout",
     "output_type": "stream",
     "text": [
      "              precision    recall  f1-score   support\n",
      "\n",
      "           0       1.00      0.97      0.98        29\n",
      "           1       0.98      1.00      0.99        57\n",
      "\n",
      "    accuracy                           0.99        86\n",
      "   macro avg       0.99      0.98      0.99        86\n",
      "weighted avg       0.99      0.99      0.99        86\n",
      "\n",
      "** 0 label indecats Postive Sample.\n",
      "   1 label indecats Negative Sample.\n"
     ]
    }
   ],
   "source": [
    "cm =  confusion_matrix(y_test,y_pred)\n",
    "print(classification_report(y_test, y_pred))\n",
    "print('** 0 label indecats Postive Sample.\\n   1 label indecats Negative Sample.')"
   ]
  },
  {
   "cell_type": "code",
   "execution_count": 14,
   "id": "f61ddd8b",
   "metadata": {},
   "outputs": [
    {
     "data": {
      "text/plain": [
       "<sklearn.metrics._plot.confusion_matrix.ConfusionMatrixDisplay at 0x1fd15939c10>"
      ]
     },
     "execution_count": 14,
     "metadata": {},
     "output_type": "execute_result"
    },
    {
     "data": {
      "image/png": "[encoded data removed]",
      "text/plain": [
       "<Figure size 432x288 with 2 Axes>"
      ]
     },
     "metadata": {
      "needs_background": "light"
     },
     "output_type": "display_data"
    }
   ],
   "source": [
    "cmd_obj = ConfusionMatrixDisplay(cm,display_labels=['Postive','Negative'])\n",
    "cmd_obj.plot()"
   ]
  },
  {
   "cell_type": "markdown",
   "id": "f2110c66",
   "metadata": {},
   "source": [
    "# Using Logisitic Regression with class weights\n",
    "## Class weight is = 'balanced'"
   ]
  },
  {
   "cell_type": "code",
   "execution_count": 15,
   "id": "024831a9",
   "metadata": {},
   "outputs": [],
   "source": [
    "reg_balanced = LogisticRegression(class_weight='balanced').fit(X_train, y_train)\n",
    "\n",
    "y_pred = reg_balanced.predict(X_test)\n"
   ]
  },
  {
   "cell_type": "markdown",
   "id": "985cfc38",
   "metadata": {},
   "source": [
    "### ** After using balanced to be balanced over the class weights\n",
    "### for positive samples recall is 100% it is better than previous trail and F-1 Score giving acceptable score for the whole test datset 100%"
   ]
  },
  {
   "cell_type": "code",
   "execution_count": 16,
   "id": "0babe15d",
   "metadata": {},
   "outputs": [
    {
     "name": "stdout",
     "output_type": "stream",
     "text": [
      "              precision    recall  f1-score   support\n",
      "\n",
      "           0       1.00      1.00      1.00        29\n",
      "           1       1.00      1.00      1.00        57\n",
      "\n",
      "    accuracy                           1.00        86\n",
      "   macro avg       1.00      1.00      1.00        86\n",
      "weighted avg       1.00      1.00      1.00        86\n",
      "\n",
      "** 0 label indecats Postive Sample.\n",
      "   1 label indecats Negative Sample.\n"
     ]
    }
   ],
   "source": [
    "cm =  confusion_matrix(y_test,y_pred)\n",
    "print(classification_report(y_test, y_pred))\n",
    "print('** 0 label indecats Postive Sample.\\n   1 label indecats Negative Sample.')"
   ]
  },
  {
   "cell_type": "code",
   "execution_count": 17,
   "id": "df501c5a",
   "metadata": {
    "scrolled": true
   },
   "outputs": [
    {
     "data": {
      "text/plain": [
       "<sklearn.metrics._plot.confusion_matrix.ConfusionMatrixDisplay at 0x1fd15c08940>"
      ]
     },
     "execution_count": 17,
     "metadata": {},
     "output_type": "execute_result"
    },
    {
     "data": {
      "image/png": "[encoded data removed]",
      "text/plain": [
       "<Figure size 432x288 with 2 Axes>"
      ]
     },
     "metadata": {
      "needs_background": "light"
     },
     "output_type": "display_data"
    }
   ],
   "source": [
    "cmd_obj = ConfusionMatrixDisplay(cm,display_labels=['Postive','Negative'])\n",
    "cmd_obj.plot()"
   ]
  },
  {
   "cell_type": "markdown",
   "id": "2feb1174",
   "metadata": {},
   "source": [
    "## Class weight put in manually"
   ]
  },
  {
   "cell_type": "code",
   "execution_count": 18,
   "id": "3d9a8a1e",
   "metadata": {},
   "outputs": [],
   "source": [
    "reg_balanced = LogisticRegression(class_weight={0:2,1:1}).fit(X_train, y_train)\n",
    "\n",
    "y_pred = reg_balanced.predict(X_test)"
   ]
  },
  {
   "cell_type": "code",
   "execution_count": 19,
   "id": "157f7811",
   "metadata": {},
   "outputs": [
    {
     "name": "stdout",
     "output_type": "stream",
     "text": [
      "              precision    recall  f1-score   support\n",
      "\n",
      "           0       1.00      1.00      1.00        29\n",
      "           1       1.00      1.00      1.00        57\n",
      "\n",
      "    accuracy                           1.00        86\n",
      "   macro avg       1.00      1.00      1.00        86\n",
      "weighted avg       1.00      1.00      1.00        86\n",
      "\n",
      "** 0 label indecats Postive Sample.\n",
      "   1 label indecats Negative Sample.\n"
     ]
    }
   ],
   "source": [
    "cm =  confusion_matrix(y_test,y_pred)\n",
    "print(classification_report(y_test, y_pred))\n",
    "print('** 0 label indecats Postive Sample.\\n   1 label indecats Negative Sample.')"
   ]
  },
  {
   "cell_type": "code",
   "execution_count": 20,
   "id": "605e25f0",
   "metadata": {
    "scrolled": true
   },
   "outputs": [
    {
     "data": {
      "text/plain": [
       "<sklearn.metrics._plot.confusion_matrix.ConfusionMatrixDisplay at 0x1fd15c984f0>"
      ]
     },
     "execution_count": 20,
     "metadata": {},
     "output_type": "execute_result"
    },
    {
     "data": {
      "image/png": "[encoded data removed]",
      "text/plain": [
       "<Figure size 432x288 with 2 Axes>"
      ]
     },
     "metadata": {
      "needs_background": "light"
     },
     "output_type": "display_data"
    }
   ],
   "source": [
    "cmd_obj = ConfusionMatrixDisplay(cm,display_labels=['Postive','Negative'])\n",
    "cmd_obj.plot()"
   ]
  },
  {
   "cell_type": "markdown",
   "id": "50e2206d",
   "metadata": {},
   "source": [
    "# Plot Classification with one feature"
   ]
  },
  {
   "cell_type": "code",
   "execution_count": 21,
   "id": "05618aa7",
   "metadata": {},
   "outputs": [
    {
     "data": {
      "text/plain": [
       "<matplotlib.collections.PathCollection at 0x1fd159394c0>"
      ]
     },
     "execution_count": 21,
     "metadata": {},
     "output_type": "execute_result"
    },
    {
     "data": {
      "image/png": "[encoded data removed]",
      "text/plain": [
       "<Figure size 432x288 with 1 Axes>"
      ]
     },
     "metadata": {
      "needs_background": "light"
     },
     "output_type": "display_data"
    }
   ],
   "source": [
    "plt.scatter(X_test[:,3],X_test[:,4], c = y_test)"
   ]
  },
  {
   "cell_type": "code",
   "execution_count": 22,
   "id": "135a286d",
   "metadata": {},
   "outputs": [
    {
     "data": {
      "image/png": "[encoded data removed]",
      "text/plain": [
       "<Figure size 432x288 with 1 Axes>"
      ]
     },
     "metadata": {
      "needs_background": "light"
     },
     "output_type": "display_data"
    }
   ],
   "source": [
    "#plot train data on one of the features\n",
    "plt.scatter(X_train[:,3],y_train, c = y_train)\n",
    "plt.grid()"
   ]
  },
  {
   "cell_type": "code",
   "execution_count": 23,
   "id": "cdb690e4",
   "metadata": {},
   "outputs": [
    {
     "data": {
      "image/png": "[encoded data removed]",
      "text/plain": [
       "<Figure size 576x360 with 1 Axes>"
      ]
     },
     "metadata": {
      "needs_background": "light"
     },
     "output_type": "display_data"
    }
   ],
   "source": [
    "#plot classified data on one of the features\n",
    "plt.figure(figsize=(8,5))\n",
    "\n",
    "plt.scatter(X_test[:,3],y_pred, c = y_test, marker = 'x' , lw = 4)\n",
    "plt.axhline(y = 0.5, c='r')\n",
    "plt.title('Predction of breas cancer data-set')\n",
    "plt.text(.47,.8,'Label 0 indecated test result is Postive.\\nLabel 1 indecated test result is Negtive.',{'color':'black','size':10})\n",
    "\n",
    "\n",
    "plt.grid()\n",
    "plt.show()"
   ]
  }
 ],
 "metadata": {
  "kernelspec": {
   "display_name": "Python 3 (ipykernel)",
   "language": "python",
   "name": "python3"
  },
  "language_info": {
   "codemirror_mode": {
    "name": "ipython",
    "version": 3
   },
   "file_extension": ".py",
   "mimetype": "text/x-python",
   "name": "python",
   "nbconvert_exporter": "python",
   "pygments_lexer": "ipython3",
   "version": "3.9.0"
  }
 },
 "nbformat": 4,
 "nbformat_minor": 5
}
